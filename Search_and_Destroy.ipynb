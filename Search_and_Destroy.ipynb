{
 "cells": [
  {
   "cell_type": "code",
   "execution_count": 15,
   "metadata": {
    "collapsed": true
   },
   "outputs": [],
   "source": [
    "#LOAD LIBRARIES\n",
    "import pickle\n",
    "def findvalue(d, k):\n",
    "    if k in d:\n",
    "        var1 = d[k]\n",
    "        return(var1)"
   ]
  },
  {
   "cell_type": "code",
   "execution_count": 16,
   "metadata": {
    "collapsed": false
   },
   "outputs": [],
   "source": [
    "#READ THE DICTIONARY DATABASE. Pickle is used to read the dict file maintaining the data structure.\n",
    "with open('metabolism_pythondict.txt', 'rb') as handle:\n",
    "  metabolism_data = pickle.loads(handle.read())"
   ]
  },
  {
   "cell_type": "code",
   "execution_count": 20,
   "metadata": {
    "collapsed": false
   },
   "outputs": [
    {
     "name": "stdout",
     "output_type": "stream",
     "text": [
      "Gene information: ({'CHR_ACC': 'NC_012920.1', 'CHR_LOC': 'NULL', 'ASSEMBLY': 'GCF_000001405.33', 'NAME': 'ND4L', 'CHR_NUM': 'MT', 'CHR_STOP': '10765', 'NCBIid': u'4539', 'CHR_START': '10469', 'EXON_COUNT': '0'}, {u'Energy metabolism': [u'Oxidative phosphorylation']})\n"
     ]
    }
   ],
   "source": [
    "#ASK FOR INFORMATION ACCORDING TO KEGG ID\n",
    "#Call the function to extract information about one gene        \n",
    "print \"Gene information:\", findvalue(metabolism_data, \"4539\")"
   ]
  },
  {
   "cell_type": "code",
   "execution_count": 25,
   "metadata": {
    "collapsed": false
   },
   "outputs": [
    {
     "data": {
      "text/plain": [
       "'5'"
      ]
     },
     "execution_count": 25,
     "metadata": {},
     "output_type": "execute_result"
    }
   ],
   "source": [
    "metabolism_data['3101'][0]['CHR_NUM']"
   ]
  },
  {
   "cell_type": "code",
   "execution_count": 39,
   "metadata": {
    "collapsed": false
   },
   "outputs": [
    {
     "name": "stdout",
     "output_type": "stream",
     "text": [
      "55613\n",
      "4534\n",
      "412\n",
      "139596\n",
      "5277\n",
      "537\n",
      "2182\n",
      "3251\n",
      "2986\n",
      "158835\n",
      "438\n",
      "56474\n",
      "2539\n",
      "2710\n",
      "2717\n",
      "8473\n",
      "10682\n",
      "55217\n",
      "212\n",
      "54539\n",
      "5230\n",
      "8277\n",
      "29071\n",
      "5009\n",
      "4952\n",
      "90161\n",
      "3052\n",
      "3028\n",
      "50814\n",
      "4129\n",
      "4128\n",
      "5973\n",
      "139189\n",
      "2747\n",
      "5207\n",
      "8228\n",
      "6901\n",
      "9104\n",
      "4694\n",
      "5160\n",
      "3423\n",
      "3421\n",
      "8908\n",
      "9843\n",
      "6611\n",
      "79868\n",
      "1349\n",
      "11238\n",
      "441531\n",
      "56548\n",
      "9468\n",
      "6303\n",
      "6839\n",
      "5422\n",
      "8776\n",
      "5634\n",
      "5631\n",
      "Genes totales: 57\n"
     ]
    }
   ],
   "source": [
    "c=0\n",
    "#ASK FOR CHROMOSOME NUMBER\n",
    "for k in metabolism_data:\n",
    "    if metabolism_data[k][0][\"CHR_NUM\"] == \"X\":\n",
    "        c+=1\n",
    "        print k\n",
    "print \"Genes totales:\", c\n"
   ]
  },
  {
   "cell_type": "code",
   "execution_count": null,
   "metadata": {
    "collapsed": true
   },
   "outputs": [],
   "source": []
  }
 ],
 "metadata": {
  "kernelspec": {
   "display_name": "Python [conda root]",
   "language": "python",
   "name": "conda-root-py"
  },
  "language_info": {
   "codemirror_mode": {
    "name": "ipython",
    "version": 2
   },
   "file_extension": ".py",
   "mimetype": "text/x-python",
   "name": "python",
   "nbconvert_exporter": "python",
   "pygments_lexer": "ipython2",
   "version": "2.7.12"
  }
 },
 "nbformat": 4,
 "nbformat_minor": 1
}
