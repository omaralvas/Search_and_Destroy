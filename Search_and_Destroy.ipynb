{
 "cells": [
  {
   "cell_type": "code",
   "execution_count": 7,
   "metadata": {
    "collapsed": true
   },
   "outputs": [],
   "source": [
    "#LOAD LIBRARIES\n",
    "import pickle\n",
    "import pprint"
   ]
  },
  {
   "cell_type": "code",
   "execution_count": 3,
   "metadata": {
    "collapsed": false
   },
   "outputs": [],
   "source": [
    "#READ THE DICTIONARY DATABASE. Pickle is used to read the dict file maintaining the data structure.\n",
    "with open('metabolism_pythondict.txt', 'rb') as handle:\n",
    "  metabolism_data = pickle.loads(handle.read())"
   ]
  },
  {
   "cell_type": "code",
   "execution_count": 4,
   "metadata": {
    "collapsed": false
   },
   "outputs": [],
   "source": [
    "#DECLARE DICTIONARIE DISPLAY AND GET INFORMATION\n",
    "met_keys= {'0': \"Carbohydrate metabolism\", '1': \"Energy metabolism\", '2': \"Lipid metabolism\", '3': \"Nucleotide metabolism\"\\\n",
    "                     ,'4': \"Amino acid metabolism\", '5': \"Metabolism of other amino acids\", '6': \"Glycan biosynthesis and metabolism\"\\\n",
    "                     ,'7': \"Metabolism of cofactors and vitamins\", '8': \"Metabolism of terpenoids and polyketides\"\\\n",
    "                     ,'9': \"Biosynthesis of other secondary metabolites\", '10': \"Xenobiotics biodegradation and metabolism\"}"
   ]
  },
  {
   "cell_type": "code",
   "execution_count": 5,
   "metadata": {
    "collapsed": false
   },
   "outputs": [],
   "source": [
    "#DECLARE FUNCTION TO GET INFORMATION\n",
    "def search_by_field(fa):\n",
    "    if fa == 0:\n",
    "        chr_num= raw_input(\"Write the number of chromosome. Ex: 1,5,X,MT,Y\")\n",
    "        list_ids= []\n",
    "        for k in metabolism_data:\n",
    "             if metabolism_data[k][0][\"CHR_NUM\"] == chr_num:\n",
    "                list_ids.append(k)\n",
    "        return(list_ids)\n",
    "    elif fa == 1:\n",
    "        nt_pos= raw_input(\"Write the variant's position you are interested in \")\n",
    "        list_ids= []\n",
    "        for k in metabolism_data:\n",
    "            if int(nt_pos) in range(int(metabolism_data[k][0][\"CHR_START\"]), int(metabolism_data[k][0][\"CHR_STOP\"])):\n",
    "                list_ids.append(k)\n",
    "        return(list_ids)\n",
    "    elif fa == 2:\n",
    "        central_met= raw_input(\"Carbohydrate metabolism[0]\\nEnergy metabolism[1]\\nLipid metabolism[2]\\nNucleotide metabolism[3]\\nAmino acid metabolism[4]\\nMetabolism of other amino acids[5]\\nGlycan biosynthesis and metabolism[6]\\nMetabolism of cofactors and vitamins[7]\\nMetabolism of terpenoids and polyketides[8]\\nBiosynthesis of other secondary metabolites[9]\\nXenobiotics biodegradation and metabolism[10]\\n\")\n",
    "        list_ids= []\n",
    "        for k in metabolism_data:\n",
    "            if met_keys[central_met] in metabolism_data[k][1].keys():\n",
    "                list_ids.append(k)\n",
    "        return(list_ids)\n",
    "    elif fa == 3:\n",
    "        pathway_words= raw_input(\"Write key-words separated by commas \")\n",
    "        pathway_words= pathway_words.split(',')\n",
    "        list_ids= []\n",
    "        for k in metabolism_data:\n",
    "            for j in metabolism_data[k][1]:\n",
    "                if any(word in str(metabolism_data[k][1][j]).lower() for word in pathway_words):\n",
    "                    list_ids.append(k)\n",
    "        return(list_ids)"
   ]
  },
  {
   "cell_type": "code",
   "execution_count": 9,
   "metadata": {
    "collapsed": false
   },
   "outputs": [
    {
     "name": "stdout",
     "output_type": "stream",
     "text": [
      "Do you want to search: a gene[0], by one field[1], by two fields[2]  0\n",
      "Please type the gene's KEGG id3101\n",
      "(   {   'ASSEMBLY': 'GCF_000001405.33',\n",
      "        'CHR_ACC': 'NC_000005.10',\n",
      "        'CHR_LOC': '5q35.2',\n",
      "        'CHR_NUM': '5',\n",
      "        'CHR_START': '176899372',\n",
      "        'CHR_STOP': '176880868',\n",
      "        'EXON_COUNT': '22',\n",
      "        'NAME': 'HK3',\n",
      "        'NCBIid': u'3101'},\n",
      "    {   u'Biosynthesis of other secondary metabolites': [   u'Neomycin, kanamycin and gentamicin biosynthesis'],\n",
      "        u'Carbohydrate metabolism': [   u'Glycolysis / Gluconeogenesis',\n",
      "                                        u'Fructose and mannose metabolism',\n",
      "                                        u'Galactose metabolism',\n",
      "                                        u'Starch and sucrose metabolism',\n",
      "                                        u'Amino sugar and nucleotide sugar metabolism']})\n"
     ]
    }
   ],
   "source": [
    "#CALL THE FUNCTION TO EXTRACT INFORMATION ABOUT ONE GENE\n",
    "#First filter: kind of search.  \n",
    "f1 = int(raw_input(\"Do you want to search: a gene[0], by one field[1], by two fields[2]  \"))\n",
    "pp = pprint.PrettyPrinter(indent=4)\n",
    "if f1 == 0:\n",
    "    search0= raw_input(\"Please type the gene's KEGG id\" )\n",
    "    pp = pprint.PrettyPrinter(indent=4)\n",
    "    pp.pprint(metabolism_data[search0])\n",
    "elif f1 == 1:\n",
    "    #Second filter: kind of field search\n",
    "    search1= int(raw_input(\"Which field: Chromosome number[0], Nucleotide Position[1], Central Metabolism[2], Pathway[3] \"))\n",
    "    ret_ids= search_by_field(search1)\n",
    "    print \"Genes found:\", len(ret_ids)\n",
    "    for i in ret_ids:\n",
    "        pp.pprint(metabolism_data[i])\n",
    "elif f1 == 2: \n",
    "    search21= int(raw_input(\"First field: Chromosome number[0], Nucleotide Position[1], Central Metabolism[2], Pathway[3] \"))\n",
    "    set1= search_by_field(search21)\n",
    "    search22= int(raw_input(\"Second field: Chromosome number[0], Nucleotide Position[1], Central Metabolism[2], Pathway[3] \"))\n",
    "    set2= search_by_field(search22)\n",
    "    ret_ids= set(set1).intersection(set2)\n",
    "    print \"Genes found:\", len(ret_ids)\n",
    "    for i in ret_ids:\n",
    "        pp.pprint(metabolism_data[i])"
   ]
  },
  {
   "cell_type": "code",
   "execution_count": null,
   "metadata": {
    "collapsed": true
   },
   "outputs": [],
   "source": []
  }
 ],
 "metadata": {
  "kernelspec": {
   "display_name": "Python [conda root]",
   "language": "python",
   "name": "conda-root-py"
  },
  "language_info": {
   "codemirror_mode": {
    "name": "ipython",
    "version": 2
   },
   "file_extension": ".py",
   "mimetype": "text/x-python",
   "name": "python",
   "nbconvert_exporter": "python",
   "pygments_lexer": "ipython2",
   "version": "2.7.12"
  }
 },
 "nbformat": 4,
 "nbformat_minor": 1
}
